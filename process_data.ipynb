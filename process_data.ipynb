{
 "cells": [
  {
   "cell_type": "code",
   "execution_count": 6,
   "metadata": {},
   "outputs": [],
   "source": [
    "import pandas as pd\n",
    "import glob\n",
    "import os\n",
    "import warnings\n",
    "warnings.filterwarnings('ignore')"
   ]
  },
  {
   "cell_type": "code",
   "execution_count": 7,
   "metadata": {},
   "outputs": [],
   "source": [
    "# load data\n",
    "file_prefix='Jira'\n",
    "file_pattern = os.path.join(\"./data/jira/\", f'{file_prefix}*.csv')\n",
    "csv_files = glob.glob(file_pattern)\n",
    "\n",
    "dataframes = []\n",
    "for file in csv_files:\n",
    "    dataframes.append(pd.read_csv(file))\n",
    "df = pd.concat(dataframes, ignore_index=True)\n",
    "\n",
    "df['Created'] = pd.to_datetime(df['Created'])\n",
    "df = df.sort_values(by='Created', ascending=True)\n",
    "\n",
    "df.dropna(subset=['Assignee Id', 'Description', 'Sprint', 'Time Spent'], inplace=True)\n",
    "# 重命名一些列名\n",
    "df =df.rename(columns={\n",
    "    'Custom field (Story Points)': 'storypoint',\n",
    "    'Issue key': 'issuekey',\n",
    "    'Summary': 'title',\n",
    "    'Description': 'description',\n",
    "    'Time Spent': 'timespent'\n",
    "})\n",
    "# 选取有用的列\n",
    "selected_cols = ['issuekey', 'title', 'description', 'storypoint', 'timespent']\n",
    "data = df[selected_cols]"
   ]
  },
  {
   "cell_type": "code",
   "execution_count": 8,
   "metadata": {},
   "outputs": [
    {
     "name": "stdout",
     "output_type": "stream",
     "text": [
      "<class 'pandas.core.frame.DataFrame'>\n",
      "Index: 4671 entries, 5048 to 0\n",
      "Data columns (total 5 columns):\n",
      " #   Column       Non-Null Count  Dtype  \n",
      "---  ------       --------------  -----  \n",
      " 0   issuekey     4671 non-null   object \n",
      " 1   title        4671 non-null   object \n",
      " 2   description  4671 non-null   object \n",
      " 3   storypoint   1197 non-null   float64\n",
      " 4   timespent    4671 non-null   float64\n",
      "dtypes: float64(2), object(3)\n",
      "memory usage: 219.0+ KB\n"
     ]
    }
   ],
   "source": [
    "data.info()"
   ]
  },
  {
   "cell_type": "code",
   "execution_count": 9,
   "metadata": {},
   "outputs": [],
   "source": [
    "# 定义映射函数\n",
    "def map_story_points(value):\n",
    "    if value <= 1:\n",
    "        return 1.0\n",
    "    elif value <= 2:\n",
    "        return 2.0\n",
    "    elif value <= 3:\n",
    "        return 3.0\n",
    "    elif value <= 5:\n",
    "        return 5.0\n",
    "    elif value <= 8:\n",
    "        return 8.0\n",
    "    elif value <= 13:\n",
    "        return 13.0\n",
    "    elif value <= 21:\n",
    "        return 21.0\n",
    "    else:\n",
    "        return -1\n",
    "\n",
    "data['storypoint'] = data['storypoint'].apply(map_story_points)\n",
    "#data = data[data['storypoint'] != -1]\n",
    "\n",
    "#data = data.reset_index(drop=True)\n",
    "data.to_csv('./data/mes_all.csv', index=False)"
   ]
  },
  {
   "cell_type": "code",
   "execution_count": 10,
   "metadata": {},
   "outputs": [],
   "source": [
    "def split_data(data):\n",
    "    num_rows = len(data)\n",
    "    train_split = int(num_rows * 0.6)\n",
    "    val_split = int(num_rows * 0.8)\n",
    "    data['split_mark'] = ''\n",
    "    # 标记前 60% 为 train\n",
    "    data.loc[:train_split - 1, 'split_mark'] = 'train'\n",
    "    # 标记 60% 到 80% 为 val\n",
    "    data.loc[train_split:val_split - 1, 'split_mark'] = 'val'\n",
    "    # 标记 80% 之后为 test\n",
    "    data.loc[val_split:, 'split_mark'] = 'test'\n",
    "    return data\n",
    "\n",
    "#data = split_data(data)\n",
    "#data.to_csv('./data/mes_all.csv', index=False)"
   ]
  }
 ],
 "metadata": {
  "kernelspec": {
   "display_name": ".venv",
   "language": "python",
   "name": "python3"
  },
  "language_info": {
   "codemirror_mode": {
    "name": "ipython",
    "version": 3
   },
   "file_extension": ".py",
   "mimetype": "text/x-python",
   "name": "python",
   "nbconvert_exporter": "python",
   "pygments_lexer": "ipython3",
   "version": "3.12.8"
  }
 },
 "nbformat": 4,
 "nbformat_minor": 2
}
