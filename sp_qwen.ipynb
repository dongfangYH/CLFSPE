{
 "cells": [
  {
   "cell_type": "code",
   "execution_count": 3,
   "metadata": {},
   "outputs": [],
   "source": [
    "import pandas as pd\n",
    "import torch\n",
    "from datasets import Dataset\n",
    "from transformers import AutoModelForSequenceClassification, AutoTokenizer, TrainingArguments, Trainer\n",
    "from peft import LoraConfig, get_peft_model, TaskType"
   ]
  },
  {
   "cell_type": "code",
   "execution_count": null,
   "metadata": {},
   "outputs": [],
   "source": [
    "data = pd.read_csv('../data/story_point/bamboo.csv')\n",
    "data = data[:10]\n",
    "data['text'] = data['title'] + ' ' + data['description']\n",
    "data = data[['text', 'storypoint']]\n",
    "\n",
    "# 数据划分（80% 训练，20% 验证）\n",
    "train_size = int(0.8 * len(data))\n",
    "train_df = data[:train_size]\n",
    "eval_df = data[train_size:]\n",
    "\n",
    "# 转换为 Hugging Face Dataset\n",
    "train_dataset = Dataset.from_pandas(train_df)\n",
    "eval_dataset = Dataset.from_pandas(eval_df)\n",
    "\n",
    "model_name = \"Qwen/Qwen2-0.5B\"\n",
    "tokenizer = AutoTokenizer.from_pretrained(model_name)\n",
    "model = AutoModelForSequenceClassification.from_pretrained(model_name, num_labels=1).to(torch.float32)\n",
    "\n",
    "# 配置 LoRA 低秩适配\n",
    "lora_config = LoraConfig(\n",
    "    r=8,  # 低秩参数（较小值减少计算量）\n",
    "    lora_alpha=32,\n",
    "    target_modules=[\"query_key_value\"],  # 适配注意力层\n",
    "    lora_dropout=0.05,\n",
    "    task_type=TaskType.SEQ_CLS  # 序列分类任务（适用于回归）\n",
    ")\n",
    "\n",
    "# 应用 LoRA\n",
    "model = get_peft_model(model, lora_config)\n",
    "model.print_trainable_parameters()  # 仅微调少量参数，减少计算\n",
    "\n",
    "def preprocess_function(examples):\n",
    "    return tokenizer(examples[\"text\"], truncation=True, padding=\"max_length\")\n",
    "\n",
    "train_dataset = train_dataset.map(preprocess_function, batched=True)\n",
    "eval_dataset = eval_dataset.map(preprocess_function, batched=True)\n",
    "\n",
    "# 重命名 'storypoint' 列为 'label'\n",
    "train_dataset = train_dataset.rename_column(\"storypoint\", \"labels\")\n",
    "eval_dataset = eval_dataset.rename_column(\"storypoint\", \"labels\")\n",
    "\n",
    "# 保持数据格式\n",
    "train_dataset.set_format(\"torch\", columns=[\"input_ids\", \"attention_mask\", \"labels\"])\n",
    "eval_dataset.set_format(\"torch\", columns=[\"input_ids\", \"attention_mask\", \"labels\"])\n",
    "\n",
    "training_args = TrainingArguments(\n",
    "    output_dir=\"./qwen2_lora_regression\",\n",
    "    evaluation_strategy=\"epoch\",\n",
    "    save_strategy=\"epoch\",\n",
    "    per_device_train_batch_size=2,  # LoRA 允许 batch_size 稍大\n",
    "    per_device_eval_batch_size=2,\n",
    "    num_train_epochs=3,\n",
    "    logging_dir=\"./logs\",\n",
    "    report_to=\"none\",\n",
    "    gradient_accumulation_steps=8,  # 累计梯度，相当于 batch_size 变大\n",
    "    save_total_limit=2,\n",
    "    dataloader_num_workers=2,\n",
    ")\n",
    "\n",
    "trainer = Trainer(\n",
    "    model=model,\n",
    "    args=training_args,\n",
    "    train_dataset=train_dataset,\n",
    "    eval_dataset=eval_dataset,\n",
    "    tokenizer=tokenizer\n",
    ")\n",
    "\n",
    "trainer.train()"
   ]
  },
  {
   "cell_type": "code",
   "execution_count": null,
   "metadata": {},
   "outputs": [],
   "source": [
    "trainer.evaluate()"
   ]
  }
 ],
 "metadata": {
  "kernelspec": {
   "display_name": ".venv",
   "language": "python",
   "name": "python3"
  },
  "language_info": {
   "codemirror_mode": {
    "name": "ipython",
    "version": 3
   },
   "file_extension": ".py",
   "mimetype": "text/x-python",
   "name": "python",
   "nbconvert_exporter": "python",
   "pygments_lexer": "ipython3",
   "version": "3.10.13"
  }
 },
 "nbformat": 4,
 "nbformat_minor": 2
}
