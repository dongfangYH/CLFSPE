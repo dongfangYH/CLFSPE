{
 "cells": [
  {
   "cell_type": "code",
   "execution_count": null,
   "metadata": {},
   "outputs": [],
   "source": [
    "import pandas as pd\n",
    "import numpy as np\n",
    "from sklearn.feature_extraction.text import TfidfVectorizer\n",
    "from sklearn.svm import SVC\n",
    "from sklearn.metrics import mean_absolute_error\n",
    "from sklearn.pipeline import Pipeline\n",
    "from sklearn.feature_selection import SelectKBest, f_classif\n",
    "from text_cleaner import TextCleaner\n",
    "import warnings\n",
    "warnings.filterwarnings('ignore')"
   ]
  },
  {
   "cell_type": "code",
   "execution_count": null,
   "metadata": {},
   "outputs": [],
   "source": [
    "df = pd.read_csv('./data/mule.csv')\n",
    "df.dropna(inplace=True)\n",
    "df['text'] = df['title'] + ' ' + df['description']\n",
    "df['label'] = df['storypoint']\n",
    "\n",
    "#cleaner = TextCleaner()\n",
    "#df['text'] = df['text'].apply(cleaner.text_normalizer)"
   ]
  },
  {
   "cell_type": "code",
   "execution_count": null,
   "metadata": {},
   "outputs": [],
   "source": [
    "# 将文本数据进行 TF-IDF 向量化\n",
    "vectorizer = TfidfVectorizer(stop_words=None, lowercase=False, ngram_range=(1, 2))\n",
    "X = vectorizer.fit_transform(df['text'])\n",
    "y = df['label']"
   ]
  },
  {
   "cell_type": "code",
   "execution_count": null,
   "metadata": {},
   "outputs": [],
   "source": [
    "# 方差\n",
    "df['label'].var()"
   ]
  },
  {
   "cell_type": "code",
   "execution_count": null,
   "metadata": {},
   "outputs": [],
   "source": [
    "df['label'].describe()"
   ]
  },
  {
   "cell_type": "code",
   "execution_count": null,
   "metadata": {},
   "outputs": [],
   "source": [
    "# 确保划分比例：60% 训练集，20% 验证集，20% 测试集\n",
    "train_val_split_point = int(len(df) * 0.6)\n",
    "val_test_split_point = int(len(df) * 0.8)\n",
    "X_train = X[:val_test_split_point]\n",
    "y_train = y[:val_test_split_point]\n",
    "#X_val = X[train_val_split_point:val_test_split_point]\n",
    "#y_val = y[train_val_split_point:val_test_split_point]\n",
    "X_test = X[val_test_split_point:]\n",
    "y_test = y[val_test_split_point:]\n",
    "\n",
    "transform = SelectKBest(score_func=f_classif, k=50)\n",
    "svc = SVC()\n",
    "clf = Pipeline([('feat_select', transform), ('classifier', svc)])\n",
    "clf.fit(X_train, y_train)\n",
    "\n",
    "\n",
    "# 使用验证集进行调参，防止过拟合\n",
    "#y_val_pred = clf.predict(X_val)\n",
    "#val_mae = mean_absolute_error(y_val, y_val_pred)\n",
    "#print(f'Validation MAE: {val_mae}')\n",
    "\n",
    "\n",
    "## 根据验证集的性能调整模型\n",
    "#best_val_mae = val_mae\n",
    "#best_C = svc.get_params()['C']\n",
    "#Cs = [0.1, 1, 10]\n",
    "#for C in Cs:\n",
    "#    clf.set_params(classifier__C=C)\n",
    "#    clf.fit(X_train, y_train)\n",
    "#    y_val_pred_temp = clf.predict(X_val)\n",
    "#    val_mae_temp = mean_absolute_error(y_val, y_val_pred_temp)\n",
    "#    if val_mae_temp < best_val_mae:\n",
    "#        best_val_mae = val_mae_temp\n",
    "#        best_C = C\n",
    "\n",
    "\n",
    "# 使用最优参数重新训练模型\n",
    "#clf.set_params(classifier__C=best_C)\n",
    "#clf.fit(X_train, y_train)\n",
    "\n",
    "# 预测测试集\n",
    "y_test_pred = clf.predict(X_test)\n",
    "test_mae = mean_absolute_error(y_test, y_test_pred)\n",
    "print(f'Test MAE: {test_mae}')\n",
    "\n",
    "# 计算 mean 作为基准的 MAE\n",
    "mean_mae = mean_absolute_error(y_test, [y_train.mean()] * len(y_test))\n",
    "print(f'Mean MAE: {mean_mae}')"
   ]
  }
 ],
 "metadata": {
  "kernelspec": {
   "display_name": ".venv",
   "language": "python",
   "name": "python3"
  },
  "language_info": {
   "codemirror_mode": {
    "name": "ipython",
    "version": 3
   },
   "file_extension": ".py",
   "mimetype": "text/x-python",
   "name": "python",
   "nbconvert_exporter": "python",
   "pygments_lexer": "ipython3",
   "version": "3.10.13"
  }
 },
 "nbformat": 4,
 "nbformat_minor": 2
}
