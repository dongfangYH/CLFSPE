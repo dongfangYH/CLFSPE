{
 "cells": [
  {
   "cell_type": "code",
   "execution_count": null,
   "metadata": {},
   "outputs": [],
   "source": [
    "#!pip install textattack"
   ]
  },
  {
   "cell_type": "code",
   "execution_count": 7,
   "metadata": {},
   "outputs": [
    {
     "name": "stdout",
     "output_type": "stream",
     "text": [
      "Original Sentence: The quick brown fox jumps over the lazy dog.\n",
      "Augmented Sentence: ['The quick brown fox jumps over the lazy weenie.']\n"
     ]
    },
    {
     "name": "stderr",
     "output_type": "stream",
     "text": [
      "[nltk_data] Downloading package omw-1.4 to /home/ryan/nltk_data...\n",
      "[nltk_data]   Package omw-1.4 is already up-to-date!\n"
     ]
    }
   ],
   "source": [
    "from textattack.augmentation import WordNetAugmenter\n",
    " \n",
    "augmenter = WordNetAugmenter()\n",
    " \n",
    "# Example usage:\n",
    "sentence = \"The quick brown fox jumps over the lazy dog.\"\n",
    "augmented_sentence = augmenter.augment(sentence)\n",
    " \n",
    "print(f\"Original Sentence: {sentence}\")\n",
    "print(f\"Augmented Sentence: {augmented_sentence}\")"
   ]
  },
  {
   "cell_type": "code",
   "execution_count": 12,
   "metadata": {},
   "outputs": [
    {
     "name": "stdout",
     "output_type": "stream",
     "text": [
      "Original Text: TextAttack is a powerful library for NLP.\n",
      "Augmented Text: ['TextAttack is a influential library for NLP.']\n"
     ]
    }
   ],
   "source": [
    "from textattack.augmentation import EmbeddingAugmenter\n",
    "\n",
    "# Initialize the EmbeddingAugmenter\n",
    "embed_aug = EmbeddingAugmenter()\n",
    "\n",
    "# Example usage:\n",
    "original_text = \"TextAttack is a powerful library for NLP.\"\n",
    "augmented_text = embed_aug.augment(original_text)\n",
    "\n",
    "print(f\"Original Text: {original_text}\")\n",
    "print(f\"Augmented Text: {augmented_text}\")\n"
   ]
  },
  {
   "cell_type": "code",
   "execution_count": 13,
   "metadata": {},
   "outputs": [],
   "source": [
    "from transformers import MarianMTModel, MarianTokenizer\n",
    "import torch"
   ]
  },
  {
   "cell_type": "code",
   "execution_count": 14,
   "metadata": {},
   "outputs": [
    {
     "name": "stderr",
     "output_type": "stream",
     "text": [
      "/home/ryan/workspace/data_science/.venv/lib/python3.10/site-packages/transformers/models/marian/tokenization_marian.py:175: UserWarning: Recommended: pip install sacremoses.\n",
      "  warnings.warn(\"Recommended: pip install sacremoses.\")\n"
     ]
    }
   ],
   "source": [
    "# Helper function to download data for a language\n",
    "def download(model_name):\n",
    "  tokenizer = MarianTokenizer.from_pretrained(model_name)\n",
    "  model = MarianMTModel.from_pretrained(model_name)\n",
    "  return tokenizer, model\n",
    "\n",
    "# download model for English -> Romance\n",
    "tmp_lang_tokenizer, tmp_lang_model = download('Helsinki-NLP/opus-mt-en-ROMANCE')\n",
    "# download model for Romance -> English\n",
    "src_lang_tokenizer, src_lang_model = download('Helsinki-NLP/opus-mt-ROMANCE-en')"
   ]
  },
  {
   "cell_type": "code",
   "execution_count": 25,
   "metadata": {},
   "outputs": [],
   "source": [
    "def translate(texts, model, tokenizer, language):\n",
    "    \"\"\"Translate texts into a target language\"\"\"\n",
    "    # Format the text as expected by the model\n",
    "    formatter_fn = lambda txt: f\"{txt}\" if language == \"en\" else f\">>{language}<< {txt}\"\n",
    "    original_texts = [formatter_fn(txt) for txt in texts]\n",
    "    print(original_texts)\n",
    "    tokens = tokenizer(original_texts, return_tensors=\"pt\", padding=True, truncation=True)\n",
    "\n",
    "    # Translate\n",
    "    with torch.no_grad():  # 假设你正在使用 PyTorch，并且不希望计算梯度\n",
    "        translated = model.generate(**tokens)  # 使用 ** 操作符解包字典\n",
    "\n",
    "    # Decode (tokens to text)\n",
    "    translated_texts = tokenizer.batch_decode(translated, skip_special_tokens=True)\n",
    "\n",
    "    return translated_texts\n",
    "\n",
    "def back_translate(texts, language_src, language_dst):\n",
    "    \"\"\"Implements back translation\"\"\"\n",
    "    # Translate from source to target language\n",
    "    translated = translate(texts, tmp_lang_model, tmp_lang_tokenizer, language_dst)\n",
    "    \n",
    "    # Translate from target language back to source language\n",
    "    back_translated = translate(translated, src_lang_model, src_lang_tokenizer, language_src)\n",
    "\n",
    "    return back_translated\n",
    "\n",
    "# Example usage:\n",
    "src_texts = [\n",
    "    '[Audit] Password expiration change is not included in the Audit',\n",
    "    '[BE] User administration - ensure that user does not exist in Auth0 prior to creating it',\n",
    "    '[FE][Page Config] Creating a single-state-manager page or copying a PWB page breaks the Select Station widget'\n",
    "]"
   ]
  },
  {
   "cell_type": "code",
   "execution_count": 29,
   "metadata": {},
   "outputs": [
    {
     "name": "stdout",
     "output_type": "stream",
     "text": [
      "['>>co<< [Audit] Password expiration change is not included in the Audit', '>>co<< [BE] User administration - ensure that user does not exist in Auth0 prior to creating it', '>>co<< [FE][Page Config] Creating a single-state-manager page or copying a PWB page breaks the Select Station widget']\n",
      "[\"[Audit] Non è inclusa la modifica di scadenza del mots d'ordine nell'audit\", \"[BE] Administrazione d'usuari - assicurarsi che l'usuari non esista in Auth0 prima di crearlo\", '[FE][Config Page] Creando una pagina single-state-manager o copiando una pagina PWB rompe il widget Select Station']\n"
     ]
    }
   ],
   "source": [
    "back_texts = back_translate(src_texts, \"en\", \"co\")"
   ]
  },
  {
   "cell_type": "code",
   "execution_count": 30,
   "metadata": {},
   "outputs": [
    {
     "name": "stdout",
     "output_type": "stream",
     "text": [
      "['[Audit] Change in the maturity of the passwords is not included in the audit', '[BE] User administration - make sure the user does not exist in Auth0 before creating it', '[FE][Config Page] Creating a single-state-manager page or copying a PWB page breaks the Select Station widget']\n"
     ]
    }
   ],
   "source": [
    "print(back_texts)"
   ]
  }
 ],
 "metadata": {
  "kernelspec": {
   "display_name": ".venv",
   "language": "python",
   "name": "python3"
  },
  "language_info": {
   "codemirror_mode": {
    "name": "ipython",
    "version": 3
   },
   "file_extension": ".py",
   "mimetype": "text/x-python",
   "name": "python",
   "nbconvert_exporter": "python",
   "pygments_lexer": "ipython3",
   "version": "3.10.13"
  }
 },
 "nbformat": 4,
 "nbformat_minor": 2
}
